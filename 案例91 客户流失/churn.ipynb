








<!DOCTYPE html>
<html lang="en">

<head>
  <meta charset="utf-8">
  <title>Jupyter Notebook Viewer</title>
  <meta name="viewport" content="width=device-width, initial-scale=1.0">
  <meta name="description" content="">
  <meta name="author" content="">
  
  <meta name="robots" content="noindex,nofollow">
  

  <!--NEW RELIC Start Perf Measurement-->
  
  <!--NREND-->

  <!-- Le styles -->
  <link href="/static/build/styles.css" rel="stylesheet">

  <!-- Le HTML5 shim, for IE6-8 support of HTML5 elements -->
  <!--[if lt IE 9]>
    <script src="http://html5shim.googlecode.com/svn/trunk/html5.js"></script>
  <![endif]-->

  <!-- Le fav and touch icons -->
  <link rel="shortcut icon" href="/static/ico/ipynb_icon_16x16.png">
  <link rel="apple-touch-icon-precomposed" sizes="144x144"
        href="/static/ico/apple-touch-icon-144-precomposed.png">
  <link rel="apple-touch-icon-precomposed" sizes="114x114"
        href="/static/ico/apple-touch-icon-114-precomposed.png">
  <link rel="apple-touch-icon-precomposed" sizes="72x72"
        href="/static/ico/apple-touch-icon-72-precomposed.png">
  <link rel="apple-touch-icon-precomposed"
        href="/static/ico/apple-touch-icon-57-precomposed.png">
  
  

  

  
  <meta name="twitter:card" content="summary">
  <meta name="twitter:title" content="Notebook on nbviewer">
  <meta name="twitter:description" content="Check out this Jupyter notebook!">

  
  <meta name="twitter:domain" content="nbviewer.jupyter.org">
  <meta name="twitter:image:src" content="http://ipython.org/ipython-doc/dev/_images/ipynb_icon_128x128.png">

  
    <link href="/static/build/notebook.css" rel="stylesheet">
  

  

  
    <script src="https://cdnjs.cloudflare.com/ajax/libs/mathjax/2.7.1/MathJax.js?config=TeX-AMS_HTML" type="text/javascript">
    </script>
    <script type="text/javascript">
      init_mathjax = function() {
        if (window.MathJax) {
          // MathJax loaded
          MathJax.Hub.Config({
            TeX: {
              equationNumbers: {
                autoNumber: "AMS",
                useLabelIds: true
              }
            },
            tex2jax: {
              inlineMath: [ ['$','$'], ["\\(","\\)"] ],
              displayMath: [ ['$$','$$'], ["\\[","\\]"] ],
              processEscapes: true,
              processEnvironments: true
            },
            displayAlign: 'center',
            "HTML-CSS": {
              styles: {'.MathJax_Display': {"margin": 0}},
              linebreaks: { automatic: true }
            }
          });
          MathJax.Hub.Queue(["Typeset", MathJax.Hub]);
        }
      }
      init_mathjax();
    </script>
  

  
    <script>
      (function() {
        function addWidgetsRenderer() {
          var mimeElement = document.querySelector('script[type="application/vnd.jupyter.widget-view+json"]');
          var scriptElement = document.createElement('script');
          var widgetRendererSrc = 'https://unpkg.com/@jupyter-widgets/html-manager@0.15/dist/embed-amd.js';
          var widgetState;

          try {
            widgetState = mimeElement && JSON.parse(mimeElement.innerHTML);

            if (widgetState && (widgetState.version_major < 2 || !widgetState.version_major)) {
              widgetRendererSrc = 'https://unpkg.com/jupyter-js-widgets@2.1/dist/embed.js';
            }
          } catch(e) {}

          scriptElement.src = widgetRendererSrc;
          document.body.appendChild(scriptElement);
        }

        document.addEventListener('DOMContentLoaded', addWidgetsRenderer);
      }());
    </script>
  

</head>

<body class="nbviewer">

  <!-- These are loaded at the top of the body so they are available to
       notebook cells when they are loaded below. -->
  <script src="/static/components/jquery/dist/jquery.min.js"></script>
  <script src="/static/components/requirejs/require.js"></script>
  <script src="/static/components/moment/min/moment.min.js"></script>
<!-- Navbar
================================================== -->
  <nav id="menubar" class="navbar navbar-default navbar-fixed-top" data-spy="affix">
    <div class="container">
      <div class="navbar-header">
        <button type="button" class="navbar-toggle collapsed" data-toggle="collapse" data-target=".navbar-collapse">
          <span class="sr-only">Toggle navigation</span>
          <i class="fa fa-bars"></i>
        </button>
        <a class="navbar-brand" href="/">
          <img src="/static/img/nav_logo.svg" width="159"/>
        </a>
      </div>

      <div class="collapse navbar-collapse">
        <ul class="nav navbar-nav navbar-right">
          <li>
            <a class="active" href="https://jupyter.org">JUPYTER</a>
          </li>
          <li>
    <a href="/faq" title="FAQ" >
      
        <span>FAQ</span>
      
    </a>
  </li>

          
  
    
  
    
      
        <li>
    <a href="script/github/donnemartin/data-science-ipython-notebooks/blob/master/analyses/churn.ipynb" title="View as Code" >
      <span class="fa fa-code fa-2x menu-icon"></span>
      <span class="menu-text">View as Code</span>
    </a>
  </li>
      
    
  

  
    <li>
    <a href="#" title="Python 2 Kernel" >
      <span class="fa fa-server fa-2x menu-icon"></span>
      <span class="menu-text">Python 2 Kernel</span>
    </a>
  </li>
  

  
    <li>
    <a href="https://github.com/donnemartin/data-science-ipython-notebooks/blob/master/analyses/churn.ipynb" title="View on GitHub" >
      <span class="fa fa-github fa-2x menu-icon"></span>
      <span class="menu-text">View on GitHub</span>
    </a>
  </li>
  

  
    <li>
    <a href="https://mybinder.org/v2/gh/donnemartin/data-science-ipython-notebooks/master?filepath=analyses/churn.ipynb" title="Execute on Binder" >
      <span class="fa fa-icon-binder fa-2x menu-icon"></span>
      <span class="menu-text">Execute on Binder</span>
    </a>
  </li>
  

  <li>
    <a href="https://raw.githubusercontent.com/donnemartin/data-science-ipython-notebooks/master/analyses/churn.ipynb" title="Download Notebook" download>
      <span class="fa fa-download fa-2x menu-icon"></span>
      <span class="menu-text">Download Notebook</span>
    </a>
  </li>

        </ul>
      </div><!-- /.navbar-collapse -->
      
      
    </div>
  </nav>

  <div class="container container-main">
    
  
  <ol class="breadcrumb">
    
      <li>
        <a href="/github/donnemartin/data-science-ipython-notebooks/tree/master">data-science-ipython-notebooks</a>
      </li>
    
      <li>
        <a href="/github/donnemartin/data-science-ipython-notebooks/tree/master/analyses">analyses</a>
      </li>
    
  </ol>
  
  <div id="notebook">
    <div id="notebook-container">
      <div class="cell border-box-sizing text_cell rendered"><div class="prompt input_prompt">
</div><div class="inner_cell">
<div class="text_cell_render border-box-sizing rendered_html">
<h2 id="Customer-Churn">Customer Churn<a class="anchor-link" href="#Customer-Churn">&#182;</a></h2><p>Credits: Forked from <a href="https://github.com/aprial/growth-workshop">growth-workshop</a> by <a href="https://github.com/aprial">aprial</a>, as featured on the <a href="http://blog.yhathq.com/posts/predicting-customer-churn-with-sklearn.html">yhat blog</a></p>

</div>
</div>
</div>
<div class="cell border-box-sizing text_cell rendered"><div class="prompt input_prompt">
</div><div class="inner_cell">
<div class="text_cell_render border-box-sizing rendered_html">
<p>"Churn Rate" is a business term describing the rate at which customers leave or cease paying for a product or service. It's a critical figure in many businesses, as it's often the case that acquiring new customers is a lot more costly than retaining existing ones (in some cases, 5 to 20 times more expensive).</p>
<p>Understanding what keeps customers engaged, therefore, is incredibly valuable, as it is a logical foundation from which to develop retention strategies and roll out operational practices aimed to keep customers from walking out the door. Consequently, there's growing interest among companies to develop better churn-detection techniques, leading many to look to data mining and machine learning for new and creative approaches.</p>
<p>Predicting churn is particularly important for businesses w/ subscription models such as cell phone, cable, or merchant credit card processing plans. But modeling churn has wide reaching applications in many domains. For example, casinos have used predictive models to predict ideal room conditions for keeping patrons at the blackjack table and when to reward unlucky gamblers with front row seats to Celine Dion. Similarly, airlines may offer first class upgrades to complaining customers. The list goes on.</p>

</div>
</div>
</div>
<div class="cell border-box-sizing text_cell rendered"><div class="prompt input_prompt">
</div><div class="inner_cell">
<div class="text_cell_render border-box-sizing rendered_html">
<p>Wait, don't go!</p>
<p>So what are some of ops strategies that companies employ to prevent churn? Well, reducing churn, it turns out, often requires non-trivial resources. Specialized retention teams are common in many industries and exist expressly to call down lists of at-risk customers to plead for their continued business.</p>
<p><img src="http://blog.yhathq.com/static/img/netflix.png" alt=""></p>
<p>Organizing and running such teams is tough. From an ops perspective, cross-geographic teams must be well organized and trained to respond to a huge spectrum of customer complaints. Customers must be accurately targeted based on churn-risk, and retention treatments must be well-conceived and correspond reasonably to match expected customer value to ensure the economics make sense. Spending $1,000 on someone who wasn't about to leave can get expensive pretty quickly.</p>
<p>Within this frame of mind, efficiently dealing with turnover is an exercise of distinguishing who is likely to churn from who is not using the data at our disposal. The remainder of this post will explore a simple case study to show how Python and its scientific libraries can be used to predict churn and how you might deploy such a solution within operations to guide a retention team.</p>
<h2 id="The-Dataset">The Dataset<a class="anchor-link" href="#The-Dataset">&#182;</a></h2><p>The data set we'll be using is a longstanding telecom customer data set.</p>
<p>The data is straightforward. Each row represents a subscribing telephone customer. Each column contains customer attributes such as phone number, call minutes used during different times of day, charges incurred for services, lifetime account duration, and whether or not the customer is still a customer.</p>

</div>
</div>
</div>
<div class="cell border-box-sizing code_cell rendered">
<div class="input">
<div class="prompt input_prompt">In&nbsp;[1]:</div>
<div class="inner_cell">
    <div class="input_area">
<div class=" highlight hl-ipython2"><pre><span></span><span class="kn">from</span> <span class="nn">__future__</span> <span class="kn">import</span> <span class="n">division</span>
<span class="kn">import</span> <span class="nn">pandas</span> <span class="k">as</span> <span class="nn">pd</span>
<span class="kn">import</span> <span class="nn">numpy</span> <span class="k">as</span> <span class="nn">np</span>
<span class="kn">import</span> <span class="nn">matplotlib.pyplot</span> <span class="k">as</span> <span class="nn">plt</span>
<span class="kn">import</span> <span class="nn">json</span>

<span class="kn">from</span> <span class="nn">sklearn.cross_validation</span> <span class="kn">import</span> <span class="n">KFold</span>
<span class="kn">from</span> <span class="nn">sklearn.preprocessing</span> <span class="kn">import</span> <span class="n">StandardScaler</span>
<span class="kn">from</span> <span class="nn">sklearn.cross_validation</span> <span class="kn">import</span> <span class="n">train_test_split</span>
<span class="kn">from</span> <span class="nn">sklearn.svm</span> <span class="kn">import</span> <span class="n">SVC</span>
<span class="kn">from</span> <span class="nn">sklearn.ensemble</span> <span class="kn">import</span> <span class="n">RandomForestClassifier</span> <span class="k">as</span> <span class="n">RF</span>
<span class="o">%</span><span class="k">matplotlib</span> inline 
</pre></div>

    </div>
</div>
</div>

</div>
<div class="cell border-box-sizing code_cell rendered">
<div class="input">
<div class="prompt input_prompt">In&nbsp;[2]:</div>
<div class="inner_cell">
    <div class="input_area">
<div class=" highlight hl-ipython2"><pre><span></span><span class="n">churn_df</span> <span class="o">=</span> <span class="n">pd</span><span class="o">.</span><span class="n">read_csv</span><span class="p">(</span><span class="s1">&#39;../data/churn.csv&#39;</span><span class="p">)</span>
<span class="n">col_names</span> <span class="o">=</span> <span class="n">churn_df</span><span class="o">.</span><span class="n">columns</span><span class="o">.</span><span class="n">tolist</span><span class="p">()</span>

<span class="nb">print</span> <span class="s2">&quot;Column names:&quot;</span>
<span class="nb">print</span> <span class="n">col_names</span>

<span class="n">to_show</span> <span class="o">=</span> <span class="n">col_names</span><span class="p">[:</span><span class="mi">6</span><span class="p">]</span> <span class="o">+</span> <span class="n">col_names</span><span class="p">[</span><span class="o">-</span><span class="mi">6</span><span class="p">:]</span>

<span class="nb">print</span> <span class="s2">&quot;</span><span class="se">\n</span><span class="s2">Sample data:&quot;</span>
<span class="n">churn_df</span><span class="p">[</span><span class="n">to_show</span><span class="p">]</span><span class="o">.</span><span class="n">head</span><span class="p">(</span><span class="mi">6</span><span class="p">)</span>
      
</pre></div>

    </div>
</div>
</div>

<div class="output_wrapper">
<div class="output">


<div class="output_area">

    <div class="prompt"></div>


<div class="output_subarea output_stream output_stdout output_text">
<pre>Column names:
[&#39;State&#39;, &#39;Account Length&#39;, &#39;Area Code&#39;, &#39;Phone&#39;, &#34;Int&#39;l Plan&#34;, &#39;VMail Plan&#39;, &#39;VMail Message&#39;, &#39;Day Mins&#39;, &#39;Day Calls&#39;, &#39;Day Charge&#39;, &#39;Eve Mins&#39;, &#39;Eve Calls&#39;, &#39;Eve Charge&#39;, &#39;Night Mins&#39;, &#39;Night Calls&#39;, &#39;Night Charge&#39;, &#39;Intl Mins&#39;, &#39;Intl Calls&#39;, &#39;Intl Charge&#39;, &#39;CustServ Calls&#39;, &#39;Churn?&#39;]

Sample data:
</pre>
</div>
</div>

<div class="output_area">

    <div class="prompt output_prompt">Out[2]:</div>



<div class="output_html rendered_html output_subarea output_execute_result">
<div style="max-height:1000px;max-width:1500px;overflow:auto;">
<table border="1" class="dataframe">
  <thead>
    <tr style="text-align: right;">
      <th></th>
      <th>State</th>
      <th>Account Length</th>
      <th>Area Code</th>
      <th>Phone</th>
      <th>Int'l Plan</th>
      <th>VMail Plan</th>
      <th>Night Charge</th>
      <th>Intl Mins</th>
      <th>Intl Calls</th>
      <th>Intl Charge</th>
      <th>CustServ Calls</th>
      <th>Churn?</th>
    </tr>
  </thead>
  <tbody>
    <tr>
      <th>0</th>
      <td> KS</td>
      <td> 128</td>
      <td> 415</td>
      <td> 382-4657</td>
      <td>  no</td>
      <td> yes</td>
      <td> 11.01</td>
      <td> 10.0</td>
      <td> 3</td>
      <td> 2.70</td>
      <td> 1</td>
      <td> False.</td>
    </tr>
    <tr>
      <th>1</th>
      <td> OH</td>
      <td> 107</td>
      <td> 415</td>
      <td> 371-7191</td>
      <td>  no</td>
      <td> yes</td>
      <td> 11.45</td>
      <td> 13.7</td>
      <td> 3</td>
      <td> 3.70</td>
      <td> 1</td>
      <td> False.</td>
    </tr>
    <tr>
      <th>2</th>
      <td> NJ</td>
      <td> 137</td>
      <td> 415</td>
      <td> 358-1921</td>
      <td>  no</td>
      <td>  no</td>
      <td>  7.32</td>
      <td> 12.2</td>
      <td> 5</td>
      <td> 3.29</td>
      <td> 0</td>
      <td> False.</td>
    </tr>
    <tr>
      <th>3</th>
      <td> OH</td>
      <td>  84</td>
      <td> 408</td>
      <td> 375-9999</td>
      <td> yes</td>
      <td>  no</td>
      <td>  8.86</td>
      <td>  6.6</td>
      <td> 7</td>
      <td> 1.78</td>
      <td> 2</td>
      <td> False.</td>
    </tr>
    <tr>
      <th>4</th>
      <td> OK</td>
      <td>  75</td>
      <td> 415</td>
      <td> 330-6626</td>
      <td> yes</td>
      <td>  no</td>
      <td>  8.41</td>
      <td> 10.1</td>
      <td> 3</td>
      <td> 2.73</td>
      <td> 3</td>
      <td> False.</td>
    </tr>
    <tr>
      <th>5</th>
      <td> AL</td>
      <td> 118</td>
      <td> 510</td>
      <td> 391-8027</td>
      <td> yes</td>
      <td>  no</td>
      <td>  9.18</td>
      <td>  6.3</td>
      <td> 6</td>
      <td> 1.70</td>
      <td> 0</td>
      <td> False.</td>
    </tr>
  </tbody>
</table>
</div>
</div>

</div>

</div>
</div>

</div>
<div class="cell border-box-sizing text_cell rendered"><div class="prompt input_prompt">
</div><div class="inner_cell">
<div class="text_cell_render border-box-sizing rendered_html">
<p>We'll be keeping the statistical model pretty simple for this example so the feature space is almost unchanged from what you see above. The following code simply drops irrelevant columns and converts strings to boolean values (since models don't handle "yes" and "no" very well). The rest of the numeric columns are left untouched.</p>

</div>
</div>
</div>
<div class="cell border-box-sizing code_cell rendered">
<div class="input">
<div class="prompt input_prompt">In&nbsp;[3]:</div>
<div class="inner_cell">
    <div class="input_area">
<div class=" highlight hl-ipython2"><pre><span></span><span class="c1"># Isolate target data</span>
<span class="n">churn_result</span> <span class="o">=</span> <span class="n">churn_df</span><span class="p">[</span><span class="s1">&#39;Churn?&#39;</span><span class="p">]</span>
<span class="n">y</span> <span class="o">=</span> <span class="n">np</span><span class="o">.</span><span class="n">where</span><span class="p">(</span><span class="n">churn_result</span> <span class="o">==</span> <span class="s1">&#39;True.&#39;</span><span class="p">,</span><span class="mi">1</span><span class="p">,</span><span class="mi">0</span><span class="p">)</span>
</pre></div>

    </div>
</div>
</div>

</div>
<div class="cell border-box-sizing code_cell rendered">
<div class="input">
<div class="prompt input_prompt">In&nbsp;[4]:</div>
<div class="inner_cell">
    <div class="input_area">
<div class=" highlight hl-ipython2"><pre><span></span><span class="c1"># We don&#39;t need these columns</span>
<span class="n">to_drop</span> <span class="o">=</span> <span class="p">[</span><span class="s1">&#39;State&#39;</span><span class="p">,</span><span class="s1">&#39;Area Code&#39;</span><span class="p">,</span><span class="s1">&#39;Phone&#39;</span><span class="p">,</span><span class="s1">&#39;Churn?&#39;</span><span class="p">]</span>
<span class="n">churn_feat_space</span> <span class="o">=</span> <span class="n">churn_df</span><span class="o">.</span><span class="n">drop</span><span class="p">(</span><span class="n">to_drop</span><span class="p">,</span><span class="n">axis</span><span class="o">=</span><span class="mi">1</span><span class="p">)</span>
</pre></div>

    </div>
</div>
</div>

</div>
<div class="cell border-box-sizing code_cell rendered">
<div class="input">
<div class="prompt input_prompt">In&nbsp;[5]:</div>
<div class="inner_cell">
    <div class="input_area">
<div class=" highlight hl-ipython2"><pre><span></span><span class="c1"># &#39;yes&#39;/&#39;no&#39; has to be converted to boolean values</span>
<span class="c1"># NumPy converts these from boolean to 1. and 0. later</span>
<span class="n">yes_no_cols</span> <span class="o">=</span> <span class="p">[</span><span class="s2">&quot;Int&#39;l Plan&quot;</span><span class="p">,</span><span class="s2">&quot;VMail Plan&quot;</span><span class="p">]</span>
<span class="n">churn_feat_space</span><span class="p">[</span><span class="n">yes_no_cols</span><span class="p">]</span> <span class="o">=</span> <span class="n">churn_feat_space</span><span class="p">[</span><span class="n">yes_no_cols</span><span class="p">]</span> <span class="o">==</span> <span class="s1">&#39;yes&#39;</span>
</pre></div>

    </div>
</div>
</div>

</div>
<div class="cell border-box-sizing code_cell rendered">
<div class="input">
<div class="prompt input_prompt">In&nbsp;[6]:</div>
<div class="inner_cell">
    <div class="input_area">
<div class=" highlight hl-ipython2"><pre><span></span><span class="c1"># Pull out features for future use</span>
<span class="n">features</span> <span class="o">=</span> <span class="n">churn_feat_space</span><span class="o">.</span><span class="n">columns</span>
<span class="nb">print</span> <span class="n">features</span>
</pre></div>

    </div>
</div>
</div>

<div class="output_wrapper">
<div class="output">


<div class="output_area">

    <div class="prompt"></div>


<div class="output_subarea output_stream output_stdout output_text">
<pre>Index([u&#39;Account Length&#39;, u&#39;Int&#39;l Plan&#39;, u&#39;VMail Plan&#39;, u&#39;VMail Message&#39;, u&#39;Day Mins&#39;, u&#39;Day Calls&#39;, u&#39;Day Charge&#39;, u&#39;Eve Mins&#39;, u&#39;Eve Calls&#39;, u&#39;Eve Charge&#39;, u&#39;Night Mins&#39;, u&#39;Night Calls&#39;, u&#39;Night Charge&#39;, u&#39;Intl Mins&#39;, u&#39;Intl Calls&#39;, u&#39;Intl Charge&#39;, u&#39;CustServ Calls&#39;], dtype=&#39;object&#39;)
</pre>
</div>
</div>

</div>
</div>

</div>
<div class="cell border-box-sizing code_cell rendered">
<div class="input">
<div class="prompt input_prompt">In&nbsp;[7]:</div>
<div class="inner_cell">
    <div class="input_area">
<div class=" highlight hl-ipython2"><pre><span></span><span class="n">X</span> <span class="o">=</span> <span class="n">churn_feat_space</span><span class="o">.</span><span class="n">as_matrix</span><span class="p">()</span><span class="o">.</span><span class="n">astype</span><span class="p">(</span><span class="n">np</span><span class="o">.</span><span class="n">float</span><span class="p">)</span>

<span class="c1"># This is important</span>
<span class="n">scaler</span> <span class="o">=</span> <span class="n">StandardScaler</span><span class="p">()</span>
<span class="n">X</span> <span class="o">=</span> <span class="n">scaler</span><span class="o">.</span><span class="n">fit_transform</span><span class="p">(</span><span class="n">X</span><span class="p">)</span>
<span class="nb">print</span> <span class="s2">&quot;Feature space holds </span><span class="si">%d</span><span class="s2"> observations and </span><span class="si">%d</span><span class="s2"> features&quot;</span> <span class="o">%</span> <span class="n">X</span><span class="o">.</span><span class="n">shape</span>
<span class="nb">print</span> <span class="s2">&quot;Unique target labels:&quot;</span><span class="p">,</span> <span class="n">np</span><span class="o">.</span><span class="n">unique</span><span class="p">(</span><span class="n">y</span><span class="p">)</span>
      
</pre></div>

    </div>
</div>
</div>

<div class="output_wrapper">
<div class="output">


<div class="output_area">

    <div class="prompt"></div>


<div class="output_subarea output_stream output_stdout output_text">
<pre>Feature space holds 3333 observations and 17 features
Unique target labels: [0 1]
</pre>
</div>
</div>

</div>
</div>

</div>
<div class="cell border-box-sizing text_cell rendered"><div class="prompt input_prompt">
</div><div class="inner_cell">
<div class="text_cell_render border-box-sizing rendered_html">
<p>One slight side note. Many predictors care about the relative size of different features even though those scales might be arbitrary. For instance: the number of points a basketball team scores per game will naturally be a couple orders of magnitude larger than their win percentage. But this doesn't mean that the latter is 100 times less signifigant. <code>StandardScaler</code> fixes this by normalizing each feature to a range of around 1.0 to -1.0 thereby preventing models from misbehaving. Well, at least for that reason.</p>
<p>Great, I now have a feature space <code>X</code> and a set of target values <code>y</code>. On to the predictions!</p>
<h2 id="How-good-is-your-model?">How good is your model?<a class="anchor-link" href="#How-good-is-your-model?">&#182;</a></h2><p>Express, test, cycle. A machine learning pipeline should be anything but static. There are always new features to design, new data to use, new classifiers to consider each with unique parameters to tune. And for every change it's critical to be able to ask, "Is the new version better than the last?" So how do I do that?</p>
<p>As a good start, cross validation will be used throught this example. Cross validation attempts to avoid overfitting (training on and predicting the same datapoint) while still producing a prediction for each observation dataset. This is accomplished by systematically hiding different subsets of the data while training a set of models. After training, each model predicts on the subset that had been hidden to it, emulating multiple train-test splits. When done correctly, every observation will have a 'fair' corresponding prediction.</p>
<p>Here's what that looks like using <code>scikit-learn</code> libraries.</p>

</div>
</div>
</div>
<div class="cell border-box-sizing code_cell rendered">
<div class="input">
<div class="prompt input_prompt">In&nbsp;[8]:</div>
<div class="inner_cell">
    <div class="input_area">
<div class=" highlight hl-ipython2"><pre><span></span><span class="kn">from</span> <span class="nn">sklearn.cross_validation</span> <span class="kn">import</span> <span class="n">KFold</span>

<span class="k">def</span> <span class="nf">run_cv</span><span class="p">(</span><span class="n">X</span><span class="p">,</span><span class="n">y</span><span class="p">,</span><span class="n">clf_class</span><span class="p">,</span><span class="o">**</span><span class="n">kwargs</span><span class="p">):</span>
    <span class="c1"># Construct a kfolds object</span>
    <span class="n">kf</span> <span class="o">=</span> <span class="n">KFold</span><span class="p">(</span><span class="nb">len</span><span class="p">(</span><span class="n">y</span><span class="p">),</span><span class="n">n_folds</span><span class="o">=</span><span class="mi">3</span><span class="p">,</span><span class="n">shuffle</span><span class="o">=</span><span class="kc">True</span><span class="p">)</span>
    <span class="n">y_pred</span> <span class="o">=</span> <span class="n">y</span><span class="o">.</span><span class="n">copy</span><span class="p">()</span>
    
    <span class="c1"># Iterate through folds</span>
    <span class="k">for</span> <span class="n">train_index</span><span class="p">,</span> <span class="n">test_index</span> <span class="ow">in</span> <span class="n">kf</span><span class="p">:</span>
        <span class="n">X_train</span><span class="p">,</span> <span class="n">X_test</span> <span class="o">=</span> <span class="n">X</span><span class="p">[</span><span class="n">train_index</span><span class="p">],</span> <span class="n">X</span><span class="p">[</span><span class="n">test_index</span><span class="p">]</span>
        <span class="n">y_train</span> <span class="o">=</span> <span class="n">y</span><span class="p">[</span><span class="n">train_index</span><span class="p">]</span>
        <span class="c1"># Initialize a classifier with key word arguments</span>
        <span class="n">clf</span> <span class="o">=</span> <span class="n">clf_class</span><span class="p">(</span><span class="o">**</span><span class="n">kwargs</span><span class="p">)</span>
        <span class="n">clf</span><span class="o">.</span><span class="n">fit</span><span class="p">(</span><span class="n">X_train</span><span class="p">,</span><span class="n">y_train</span><span class="p">)</span>
        <span class="n">y_pred</span><span class="p">[</span><span class="n">test_index</span><span class="p">]</span> <span class="o">=</span> <span class="n">clf</span><span class="o">.</span><span class="n">predict</span><span class="p">(</span><span class="n">X_test</span><span class="p">)</span>
    <span class="k">return</span> <span class="n">y_pred</span>
</pre></div>

    </div>
</div>
</div>

</div>
<div class="cell border-box-sizing text_cell rendered"><div class="prompt input_prompt">
</div><div class="inner_cell">
<div class="text_cell_render border-box-sizing rendered_html">
<p>Let's compare three fairly unique algorithms support vector machines, random forest, and k-nearest-neighbors. Nothing fancy here, just passing each to cross validation and determining how often the classifier predicted the correct class.</p>

</div>
</div>
</div>
<div class="cell border-box-sizing code_cell rendered">
<div class="input">
<div class="prompt input_prompt">In&nbsp;[9]:</div>
<div class="inner_cell">
    <div class="input_area">
<div class=" highlight hl-ipython2"><pre><span></span><span class="kn">from</span> <span class="nn">sklearn.svm</span> <span class="kn">import</span> <span class="n">SVC</span>
<span class="kn">from</span> <span class="nn">sklearn.ensemble</span> <span class="kn">import</span> <span class="n">RandomForestClassifier</span> <span class="k">as</span> <span class="n">RF</span>
<span class="kn">from</span> <span class="nn">sklearn.neighbors</span> <span class="kn">import</span> <span class="n">KNeighborsClassifier</span> <span class="k">as</span> <span class="n">KNN</span>
<span class="kn">from</span> <span class="nn">sklearn.linear_model</span> <span class="kn">import</span> <span class="n">LogisticRegression</span> <span class="k">as</span> <span class="n">LR</span>
<span class="kn">from</span> <span class="nn">sklearn.ensemble</span> <span class="kn">import</span> <span class="n">GradientBoostingClassifier</span> <span class="k">as</span> <span class="n">GBC</span>
<span class="kn">from</span> <span class="nn">sklearn.metrics</span> <span class="kn">import</span> <span class="n">average_precision_score</span>

<span class="k">def</span> <span class="nf">accuracy</span><span class="p">(</span><span class="n">y_true</span><span class="p">,</span><span class="n">y_pred</span><span class="p">):</span>
    <span class="c1"># NumPy interpretes True and False as 1. and 0.</span>
    <span class="k">return</span> <span class="n">np</span><span class="o">.</span><span class="n">mean</span><span class="p">(</span><span class="n">y_true</span> <span class="o">==</span> <span class="n">y_pred</span><span class="p">)</span>

<span class="nb">print</span> <span class="s2">&quot;Logistic Regression:&quot;</span>
<span class="nb">print</span> <span class="s2">&quot;</span><span class="si">%.3f</span><span class="s2">&quot;</span> <span class="o">%</span> <span class="n">accuracy</span><span class="p">(</span><span class="n">y</span><span class="p">,</span> <span class="n">run_cv</span><span class="p">(</span><span class="n">X</span><span class="p">,</span><span class="n">y</span><span class="p">,</span><span class="n">LR</span><span class="p">))</span>
<span class="nb">print</span> <span class="s2">&quot;Gradient Boosting Classifier&quot;</span>
<span class="nb">print</span> <span class="s2">&quot;</span><span class="si">%.3f</span><span class="s2">&quot;</span> <span class="o">%</span> <span class="n">accuracy</span><span class="p">(</span><span class="n">y</span><span class="p">,</span> <span class="n">run_cv</span><span class="p">(</span><span class="n">X</span><span class="p">,</span><span class="n">y</span><span class="p">,</span><span class="n">GBC</span><span class="p">))</span>
<span class="nb">print</span> <span class="s2">&quot;Support vector machines:&quot;</span>
<span class="nb">print</span> <span class="s2">&quot;</span><span class="si">%.3f</span><span class="s2">&quot;</span> <span class="o">%</span> <span class="n">accuracy</span><span class="p">(</span><span class="n">y</span><span class="p">,</span> <span class="n">run_cv</span><span class="p">(</span><span class="n">X</span><span class="p">,</span><span class="n">y</span><span class="p">,</span><span class="n">SVC</span><span class="p">))</span>
<span class="nb">print</span> <span class="s2">&quot;Random forest:&quot;</span>
<span class="nb">print</span> <span class="s2">&quot;</span><span class="si">%.3f</span><span class="s2">&quot;</span> <span class="o">%</span> <span class="n">accuracy</span><span class="p">(</span><span class="n">y</span><span class="p">,</span> <span class="n">run_cv</span><span class="p">(</span><span class="n">X</span><span class="p">,</span><span class="n">y</span><span class="p">,</span><span class="n">RF</span><span class="p">))</span>
<span class="nb">print</span> <span class="s2">&quot;K-nearest-neighbors:&quot;</span>
<span class="nb">print</span> <span class="s2">&quot;</span><span class="si">%.3f</span><span class="s2">&quot;</span> <span class="o">%</span> <span class="n">accuracy</span><span class="p">(</span><span class="n">y</span><span class="p">,</span> <span class="n">run_cv</span><span class="p">(</span><span class="n">X</span><span class="p">,</span><span class="n">y</span><span class="p">,</span><span class="n">KNN</span><span class="p">))</span>
</pre></div>

    </div>
</div>
</div>

<div class="output_wrapper">
<div class="output">


<div class="output_area">

    <div class="prompt"></div>


<div class="output_subarea output_stream output_stdout output_text">
<pre>Logistic Regression:
0.862
Gradient Boosting Classifier
0.950
Support vector machines:
0.912
Random forest:
0.935
K-nearest-neighbors:
0.893
</pre>
</div>
</div>

</div>
</div>

</div>
<div class="cell border-box-sizing text_cell rendered"><div class="prompt input_prompt">
</div><div class="inner_cell">
<div class="text_cell_render border-box-sizing rendered_html">
<p>Random forest won, right?</p>
<h2 id="Precision-and-recall">Precision and recall<a class="anchor-link" href="#Precision-and-recall">&#182;</a></h2><p>Measurements aren't golden formulas which always spit out high numbers for good models and low numbers for bad ones. Inherently they convey something sentiment about a model's performance, and it's the job of the human designer to determine each number's validity. The problem with accuracy is that outcomes aren't necessarily equal. If my classifier predicted a customer would churn and they didn't, that's not the best but it's forgivable. However, if my classifier predicted a customer would return, I didn't act, and then they churned... that's really bad.</p>
<p>We'll be using another built in <code>scikit-learn</code> function to construction a confusion matrix. A confusion matrix is a way of visualizing predictions made by a classifier and is just a table showing the distribution of predictions for a specific class. The x-axis indicates the true class of each observation (if a customer churned or not) while the y-axis corresponds to the class predicted by the model (if my classifier said a customer would churned or not).</p>
<h2 id="Confusion-matrix-and-confusion-tables:">Confusion matrix and confusion tables:<a class="anchor-link" href="#Confusion-matrix-and-confusion-tables:">&#182;</a></h2><p>The columns represent the actual class and the rows represent the predicted class. Lets evaluate performance:</p>
<table>
<thead><tr>
<th></th>
<th>condition True</th>
<th>condition false</th>
</tr>
</thead>
<tbody>
<tr>
<td>prediction true</td>
<td>True Positive</td>
<td>False positive</td>
</tr>
<tr>
<td>Prediction False</td>
<td>False Negative</td>
<td>True Negative</td>
</tr>
</tbody>
</table>
<p>Sensitivity, Recall or True Positive Rate quantify the models ability to predict our positive classes.</p>
$$TPR = \frac{ TP}{TP + FN}$$<p></p>
<p>Specificity or True Negative Rate quantify the models ability to predict our Negative classes.</p>
$$TNR = \frac{ TN}{FP + TN}$$<p></p>
<h3 id="Example:">Example:<a class="anchor-link" href="#Example:">&#182;</a></h3><table>
<thead><tr>
<th></th>
<th>Spam</th>
<th>Ham</th>
</tr>
</thead>
<tbody>
<tr>
<td>prediction Spam</td>
<td>100</td>
<td>50</td>
</tr>
<tr>
<td>Prediction Ham</td>
<td>75</td>
<td>900</td>
</tr>
</tbody>
</table>
$$TPR = \frac{100}{100 + 75} = 57.14 \%   Sensitive $$$$TNR = \frac{ 900}{50 + 900} = 94.73 \% Specific $$
</div>
</div>
</div>
<div class="cell border-box-sizing code_cell rendered">
<div class="input">
<div class="prompt input_prompt">In&nbsp;[10]:</div>
<div class="inner_cell">
    <div class="input_area">
<div class=" highlight hl-ipython2"><pre><span></span><span class="kn">from</span> <span class="nn">sklearn.metrics</span> <span class="kn">import</span> <span class="n">confusion_matrix</span>
<span class="kn">from</span> <span class="nn">sklearn.metrics</span> <span class="kn">import</span> <span class="n">precision_score</span>
<span class="kn">from</span> <span class="nn">sklearn.metrics</span> <span class="kn">import</span> <span class="n">recall_score</span>

<span class="k">def</span> <span class="nf">draw_confusion_matrices</span><span class="p">(</span><span class="n">confusion_matricies</span><span class="p">,</span><span class="n">class_names</span><span class="p">):</span>
    <span class="n">class_names</span> <span class="o">=</span> <span class="n">class_names</span><span class="o">.</span><span class="n">tolist</span><span class="p">()</span>
    <span class="k">for</span> <span class="n">cm</span> <span class="ow">in</span> <span class="n">confusion_matrices</span><span class="p">:</span>
        <span class="n">classifier</span><span class="p">,</span> <span class="n">cm</span> <span class="o">=</span> <span class="n">cm</span><span class="p">[</span><span class="mi">0</span><span class="p">],</span> <span class="n">cm</span><span class="p">[</span><span class="mi">1</span><span class="p">]</span>
        <span class="nb">print</span><span class="p">(</span><span class="n">cm</span><span class="p">)</span>
        
        <span class="n">fig</span> <span class="o">=</span> <span class="n">plt</span><span class="o">.</span><span class="n">figure</span><span class="p">()</span>
        <span class="n">ax</span> <span class="o">=</span> <span class="n">fig</span><span class="o">.</span><span class="n">add_subplot</span><span class="p">(</span><span class="mi">111</span><span class="p">)</span>
        <span class="n">cax</span> <span class="o">=</span> <span class="n">ax</span><span class="o">.</span><span class="n">matshow</span><span class="p">(</span><span class="n">cm</span><span class="p">)</span>
        <span class="n">plt</span><span class="o">.</span><span class="n">title</span><span class="p">(</span><span class="s1">&#39;Confusion matrix for </span><span class="si">%s</span><span class="s1">&#39;</span> <span class="o">%</span> <span class="n">classifier</span><span class="p">)</span>
        <span class="n">fig</span><span class="o">.</span><span class="n">colorbar</span><span class="p">(</span><span class="n">cax</span><span class="p">)</span>
        <span class="n">ax</span><span class="o">.</span><span class="n">set_xticklabels</span><span class="p">([</span><span class="s1">&#39;&#39;</span><span class="p">]</span> <span class="o">+</span> <span class="n">class_names</span><span class="p">)</span>
        <span class="n">ax</span><span class="o">.</span><span class="n">set_yticklabels</span><span class="p">([</span><span class="s1">&#39;&#39;</span><span class="p">]</span> <span class="o">+</span> <span class="n">class_names</span><span class="p">)</span>
        <span class="n">plt</span><span class="o">.</span><span class="n">xlabel</span><span class="p">(</span><span class="s1">&#39;Predicted&#39;</span><span class="p">)</span>
        <span class="n">plt</span><span class="o">.</span><span class="n">ylabel</span><span class="p">(</span><span class="s1">&#39;True&#39;</span><span class="p">)</span>
        <span class="n">plt</span><span class="o">.</span><span class="n">show</span><span class="p">()</span>
    
<span class="n">y</span> <span class="o">=</span> <span class="n">np</span><span class="o">.</span><span class="n">array</span><span class="p">(</span><span class="n">y</span><span class="p">)</span>
<span class="n">class_names</span> <span class="o">=</span> <span class="n">np</span><span class="o">.</span><span class="n">unique</span><span class="p">(</span><span class="n">y</span><span class="p">)</span>

<span class="n">confusion_matrices</span> <span class="o">=</span> <span class="p">[</span>
    <span class="p">(</span> <span class="s2">&quot;Support Vector Machines&quot;</span><span class="p">,</span> <span class="n">confusion_matrix</span><span class="p">(</span><span class="n">y</span><span class="p">,</span><span class="n">run_cv</span><span class="p">(</span><span class="n">X</span><span class="p">,</span><span class="n">y</span><span class="p">,</span><span class="n">SVC</span><span class="p">))</span> <span class="p">),</span>
    <span class="p">(</span> <span class="s2">&quot;Random Forest&quot;</span><span class="p">,</span> <span class="n">confusion_matrix</span><span class="p">(</span><span class="n">y</span><span class="p">,</span><span class="n">run_cv</span><span class="p">(</span><span class="n">X</span><span class="p">,</span><span class="n">y</span><span class="p">,</span><span class="n">RF</span><span class="p">))</span> <span class="p">),</span>
    <span class="p">(</span> <span class="s2">&quot;K-Nearest-Neighbors&quot;</span><span class="p">,</span> <span class="n">confusion_matrix</span><span class="p">(</span><span class="n">y</span><span class="p">,</span><span class="n">run_cv</span><span class="p">(</span><span class="n">X</span><span class="p">,</span><span class="n">y</span><span class="p">,</span><span class="n">KNN</span><span class="p">))</span> <span class="p">),</span>
    <span class="p">(</span> <span class="s2">&quot;Gradient Boosting Classifier&quot;</span><span class="p">,</span> <span class="n">confusion_matrix</span><span class="p">(</span><span class="n">y</span><span class="p">,</span><span class="n">run_cv</span><span class="p">(</span><span class="n">X</span><span class="p">,</span><span class="n">y</span><span class="p">,</span><span class="n">GBC</span><span class="p">))</span> <span class="p">),</span>
    <span class="p">(</span> <span class="s2">&quot;Logisitic Regression&quot;</span><span class="p">,</span> <span class="n">confusion_matrix</span><span class="p">(</span><span class="n">y</span><span class="p">,</span><span class="n">run_cv</span><span class="p">(</span><span class="n">X</span><span class="p">,</span><span class="n">y</span><span class="p">,</span><span class="n">LR</span><span class="p">))</span> <span class="p">)</span>
<span class="p">]</span>

<span class="c1"># Pyplot code not included to reduce clutter</span>
<span class="c1"># from churn_display import draw_confusion_matrices</span>
<span class="o">%</span><span class="k">matplotlib</span> inline

<span class="n">draw_confusion_matrices</span><span class="p">(</span><span class="n">confusion_matrices</span><span class="p">,</span><span class="n">class_names</span><span class="p">)</span>
</pre></div>

    </div>
</div>
</div>

<div class="output_wrapper">
<div class="output">


<div class="output_area">

    <div class="prompt"></div>


<div class="output_subarea output_stream output_stdout output_text">
<pre>[[2821   29]
 [ 244  239]]
</pre>
</div>
</div>

<div class="output_area">

    <div class="prompt"></div>




<div class="output_png output_subarea ">
<img src="data:image/png;base64,iVBORw0KGgoAAAANSUhEUgAAAUAAAAEWCAYAAAAXR05AAAAABHNCSVQICAgIfAhkiAAAAAlwSFlz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"
>
</div>

</div>

<div class="output_area">

    <div class="prompt"></div>


<div class="output_subarea output_stream output_stdout output_text">
<pre>[[2814   36]
 [ 147  336]]
</pre>
</div>
</div>

<div class="output_area">

    <div class="prompt"></div>




<div class="output_png output_subarea ">
<img src="data:image/png;base64,iVBORw0KGgoAAAANSUhEUgAAAT0AAAEWCAYAAAAU8EBoAAAABHNCSVQICAgIfAhkiAAAAAlwSFlz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"
>
</div>

</div>

<div class="output_area">

    <div class="prompt"></div>


<div class="output_subarea output_stream output_stdout output_text">
<pre>[[2813   37]
 [ 317  166]]
</pre>
</div>
</div>

<div class="output_area">

    <div class="prompt"></div>




<div class="output_png output_subarea ">
<img src="data:image/png;base64,iVBORw0KGgoAAAANSUhEUgAAAT0AAAEWCAYAAAAU8EBoAAAABHNCSVQICAgIfAhkiAAAAAlwSFlz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"
>
</div>

</div>

<div class="output_area">

    <div class="prompt"></div>


<div class="output_subarea output_stream output_stdout output_text">
<pre>[[2820   30]
 [ 124  359]]
</pre>
</div>
</div>

<div class="output_area">

    <div class="prompt"></div>




<div class="output_png output_subarea ">
<img src="data:image/png;base64,iVBORw0KGgoAAAANSUhEUgAAAUkAAAEWCAYAAADrUmWKAAAABHNCSVQICAgIfAhkiAAAAAlwSFlz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"
>
</div>

</div>

<div class="output_area">

    <div class="prompt"></div>


<div class="output_subarea output_stream output_stdout output_text">
<pre>[[2769   81]
 [ 381  102]]
</pre>
</div>
</div>

<div class="output_area">

    <div class="prompt"></div>




<div class="output_png output_subarea ">
<img src="data:image/png;base64,iVBORw0KGgoAAAANSUhEUgAAAT0AAAEWCAYAAAAU8EBoAAAABHNCSVQICAgIfAhkiAAAAAlwSFlz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"
>
</div>

</div>

</div>
</div>

</div>
<div class="cell border-box-sizing text_cell rendered"><div class="prompt input_prompt">
</div><div class="inner_cell">
<div class="text_cell_render border-box-sizing rendered_html">
<p>An important question to ask might be, When an individual churns, how often does my classifier predict that correctly? This measurement is called "recall" and a quick look at these diagrams can demonstrate that random forest is clearly best for this criteria. Out of all the churn cases (outcome "1") random forest correctly retrieved 330 out of 482. This translates to a churn "recall" of about 68% (330/482≈2/3), far better than support vector machines (≈50%) or k-nearest-neighbors (≈35%).</p>
<p>Another question of importance is "precision" or, When a classifier predicts an individual will churn, how often does that individual actually churn? The differences in sematic are small from the previous question, but it makes quite a different. Random forest again out preforms the other two at about 93% precision (330 out of 356) with support vector machines a little behind at about 87% (235 out of 269). K-nearest-neighbors lags at about 80%.</p>
<p>While, just like accuracy, precision and recall still rank random forest above SVC and KNN, this won't always be true. When different measurements do return a different pecking order, understanding the values and tradeoffs of each rating should effect how you proceed.</p>

</div>
</div>
</div>
<div class="cell border-box-sizing text_cell rendered"><div class="prompt input_prompt">
</div><div class="inner_cell">
<div class="text_cell_render border-box-sizing rendered_html">
<h2 id="ROC-Plots-&amp;-AUC">ROC Plots &amp; AUC<a class="anchor-link" href="#ROC-Plots-&amp;-AUC">&#182;</a></h2><p>Another important metric to consider is ROC plots. We'll cover the majority of these concepts in lecture, but if you're itching for more, one of the best resources out there is this <a href="https://cours.etsmtl.ca/sys828/REFS/A1/Fawcett_PRL2006.pdf">academic paper</a>.</p>
<p>Simply put, the area under the curve (AUC) of a receiver operating characteristic (ROC) curve is a way to reduce ROC performance to a single value representing expected performance.
To explain with a little more detail, a ROC curve plots the true positives (sensitivity) vs. false positives (1 − specificity), for a binary classifier system as its discrimination threshold is varied. Since a random method describes a horizontal curve through the unit interval, it has an AUC of .5. Minimally, classifiers should perform better than this, and the extent to which they score higher than one another (meaning the area under the ROC curve is larger), they have better expected performance.</p>

</div>
</div>
</div>
<div class="cell border-box-sizing code_cell rendered">
<div class="input">
<div class="prompt input_prompt">In&nbsp;[11]:</div>
<div class="inner_cell">
    <div class="input_area">
<div class=" highlight hl-ipython2"><pre><span></span><span class="kn">from</span> <span class="nn">sklearn.metrics</span> <span class="kn">import</span> <span class="n">roc_curve</span><span class="p">,</span> <span class="n">auc</span>
<span class="kn">from</span> <span class="nn">scipy</span> <span class="kn">import</span> <span class="n">interp</span>

<span class="k">def</span> <span class="nf">plot_roc</span><span class="p">(</span><span class="n">X</span><span class="p">,</span> <span class="n">y</span><span class="p">,</span> <span class="n">clf_class</span><span class="p">,</span> <span class="o">**</span><span class="n">kwargs</span><span class="p">):</span>
    <span class="n">kf</span> <span class="o">=</span> <span class="n">KFold</span><span class="p">(</span><span class="nb">len</span><span class="p">(</span><span class="n">y</span><span class="p">),</span> <span class="n">n_folds</span><span class="o">=</span><span class="mi">5</span><span class="p">,</span> <span class="n">shuffle</span><span class="o">=</span><span class="kc">True</span><span class="p">)</span>
    <span class="n">y_prob</span> <span class="o">=</span> <span class="n">np</span><span class="o">.</span><span class="n">zeros</span><span class="p">((</span><span class="nb">len</span><span class="p">(</span><span class="n">y</span><span class="p">),</span><span class="mi">2</span><span class="p">))</span>
    <span class="n">mean_tpr</span> <span class="o">=</span> <span class="mf">0.0</span>
    <span class="n">mean_fpr</span> <span class="o">=</span> <span class="n">np</span><span class="o">.</span><span class="n">linspace</span><span class="p">(</span><span class="mi">0</span><span class="p">,</span> <span class="mi">1</span><span class="p">,</span> <span class="mi">100</span><span class="p">)</span>
    <span class="n">all_tpr</span> <span class="o">=</span> <span class="p">[]</span>
    <span class="k">for</span> <span class="n">i</span><span class="p">,</span> <span class="p">(</span><span class="n">train_index</span><span class="p">,</span> <span class="n">test_index</span><span class="p">)</span> <span class="ow">in</span> <span class="nb">enumerate</span><span class="p">(</span><span class="n">kf</span><span class="p">):</span>
        <span class="n">X_train</span><span class="p">,</span> <span class="n">X_test</span> <span class="o">=</span> <span class="n">X</span><span class="p">[</span><span class="n">train_index</span><span class="p">],</span> <span class="n">X</span><span class="p">[</span><span class="n">test_index</span><span class="p">]</span>
        <span class="n">y_train</span> <span class="o">=</span> <span class="n">y</span><span class="p">[</span><span class="n">train_index</span><span class="p">]</span>
        <span class="n">clf</span> <span class="o">=</span> <span class="n">clf_class</span><span class="p">(</span><span class="o">**</span><span class="n">kwargs</span><span class="p">)</span>
        <span class="n">clf</span><span class="o">.</span><span class="n">fit</span><span class="p">(</span><span class="n">X_train</span><span class="p">,</span><span class="n">y_train</span><span class="p">)</span>
        <span class="c1"># Predict probabilities, not classes</span>
        <span class="n">y_prob</span><span class="p">[</span><span class="n">test_index</span><span class="p">]</span> <span class="o">=</span> <span class="n">clf</span><span class="o">.</span><span class="n">predict_proba</span><span class="p">(</span><span class="n">X_test</span><span class="p">)</span>
        <span class="n">fpr</span><span class="p">,</span> <span class="n">tpr</span><span class="p">,</span> <span class="n">thresholds</span> <span class="o">=</span> <span class="n">roc_curve</span><span class="p">(</span><span class="n">y</span><span class="p">[</span><span class="n">test_index</span><span class="p">],</span> <span class="n">y_prob</span><span class="p">[</span><span class="n">test_index</span><span class="p">,</span> <span class="mi">1</span><span class="p">])</span>
        <span class="n">mean_tpr</span> <span class="o">+=</span> <span class="n">interp</span><span class="p">(</span><span class="n">mean_fpr</span><span class="p">,</span> <span class="n">fpr</span><span class="p">,</span> <span class="n">tpr</span><span class="p">)</span>
        <span class="n">mean_tpr</span><span class="p">[</span><span class="mi">0</span><span class="p">]</span> <span class="o">=</span> <span class="mf">0.0</span>
        <span class="n">roc_auc</span> <span class="o">=</span> <span class="n">auc</span><span class="p">(</span><span class="n">fpr</span><span class="p">,</span> <span class="n">tpr</span><span class="p">)</span>
        <span class="n">plt</span><span class="o">.</span><span class="n">plot</span><span class="p">(</span><span class="n">fpr</span><span class="p">,</span> <span class="n">tpr</span><span class="p">,</span> <span class="n">lw</span><span class="o">=</span><span class="mi">1</span><span class="p">,</span> <span class="n">label</span><span class="o">=</span><span class="s1">&#39;ROC fold </span><span class="si">%d</span><span class="s1"> (area = </span><span class="si">%0.2f</span><span class="s1">)&#39;</span> <span class="o">%</span> <span class="p">(</span><span class="n">i</span><span class="p">,</span> <span class="n">roc_auc</span><span class="p">))</span>
    <span class="n">mean_tpr</span> <span class="o">/=</span> <span class="nb">len</span><span class="p">(</span><span class="n">kf</span><span class="p">)</span>
    <span class="n">mean_tpr</span><span class="p">[</span><span class="o">-</span><span class="mi">1</span><span class="p">]</span> <span class="o">=</span> <span class="mf">1.0</span>
    <span class="n">mean_auc</span> <span class="o">=</span> <span class="n">auc</span><span class="p">(</span><span class="n">mean_fpr</span><span class="p">,</span> <span class="n">mean_tpr</span><span class="p">)</span>
    <span class="n">plt</span><span class="o">.</span><span class="n">plot</span><span class="p">(</span><span class="n">mean_fpr</span><span class="p">,</span> <span class="n">mean_tpr</span><span class="p">,</span> <span class="s1">&#39;k--&#39;</span><span class="p">,</span><span class="n">label</span><span class="o">=</span><span class="s1">&#39;Mean ROC (area = </span><span class="si">%0.2f</span><span class="s1">)&#39;</span> <span class="o">%</span> <span class="n">mean_auc</span><span class="p">,</span> <span class="n">lw</span><span class="o">=</span><span class="mi">2</span><span class="p">)</span>
    
    <span class="n">plt</span><span class="o">.</span><span class="n">plot</span><span class="p">([</span><span class="mi">0</span><span class="p">,</span> <span class="mi">1</span><span class="p">],</span> <span class="p">[</span><span class="mi">0</span><span class="p">,</span> <span class="mi">1</span><span class="p">],</span> <span class="s1">&#39;--&#39;</span><span class="p">,</span> <span class="n">color</span><span class="o">=</span><span class="p">(</span><span class="mf">0.6</span><span class="p">,</span> <span class="mf">0.6</span><span class="p">,</span> <span class="mf">0.6</span><span class="p">),</span> <span class="n">label</span><span class="o">=</span><span class="s1">&#39;Random&#39;</span><span class="p">)</span>
    <span class="n">plt</span><span class="o">.</span><span class="n">xlim</span><span class="p">([</span><span class="o">-</span><span class="mf">0.05</span><span class="p">,</span> <span class="mf">1.05</span><span class="p">])</span>
    <span class="n">plt</span><span class="o">.</span><span class="n">ylim</span><span class="p">([</span><span class="o">-</span><span class="mf">0.05</span><span class="p">,</span> <span class="mf">1.05</span><span class="p">])</span>
    <span class="n">plt</span><span class="o">.</span><span class="n">xlabel</span><span class="p">(</span><span class="s1">&#39;False Positive Rate&#39;</span><span class="p">)</span>
    <span class="n">plt</span><span class="o">.</span><span class="n">ylabel</span><span class="p">(</span><span class="s1">&#39;True Positive Rate&#39;</span><span class="p">)</span>
    <span class="n">plt</span><span class="o">.</span><span class="n">title</span><span class="p">(</span><span class="s1">&#39;Receiver operating characteristic&#39;</span><span class="p">)</span>
    <span class="n">plt</span><span class="o">.</span><span class="n">legend</span><span class="p">(</span><span class="n">loc</span><span class="o">=</span><span class="s2">&quot;lower right&quot;</span><span class="p">)</span>
    <span class="n">plt</span><span class="o">.</span><span class="n">show</span><span class="p">()</span>
      

<span class="nb">print</span> <span class="s2">&quot;Support vector machines:&quot;</span>
<span class="n">plot_roc</span><span class="p">(</span><span class="n">X</span><span class="p">,</span><span class="n">y</span><span class="p">,</span><span class="n">SVC</span><span class="p">,</span><span class="n">probability</span><span class="o">=</span><span class="kc">True</span><span class="p">)</span>

<span class="nb">print</span> <span class="s2">&quot;Random forests:&quot;</span>
<span class="n">plot_roc</span><span class="p">(</span><span class="n">X</span><span class="p">,</span><span class="n">y</span><span class="p">,</span><span class="n">RF</span><span class="p">,</span><span class="n">n_estimators</span><span class="o">=</span><span class="mi">18</span><span class="p">)</span>

<span class="nb">print</span> <span class="s2">&quot;K-nearest-neighbors:&quot;</span>
<span class="n">plot_roc</span><span class="p">(</span><span class="n">X</span><span class="p">,</span><span class="n">y</span><span class="p">,</span><span class="n">KNN</span><span class="p">)</span>

<span class="nb">print</span> <span class="s2">&quot;Gradient Boosting Classifier:&quot;</span>
<span class="n">plot_roc</span><span class="p">(</span><span class="n">X</span><span class="p">,</span><span class="n">y</span><span class="p">,</span><span class="n">GBC</span><span class="p">)</span>
</pre></div>

    </div>
</div>
</div>

<div class="output_wrapper">
<div class="output">


<div class="output_area">

    <div class="prompt"></div>


<div class="output_subarea output_stream output_stdout output_text">
<pre>Support vector machines:
</pre>
</div>
</div>

<div class="output_area">

    <div class="prompt"></div>




<div class="output_png output_subarea ">
<img src="data:image/png;base64,iVBORw0KGgoAAAANSUhEUgAAAX4AAAEZCAYAAACQK04eAAAABHNCSVQICAgIfAhkiAAAAAlwSFlz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"
>
</div>

</div>

<div class="output_area">

    <div class="prompt"></div>


<div class="output_subarea output_stream output_stdout output_text">
<pre>Random forests:
</pre>
</div>
</div>

<div class="output_area">

    <div class="prompt"></div>




<div class="output_png output_subarea ">
<img src="data:image/png;base64,iVBORw0KGgoAAAANSUhEUgAAAX4AAAEZCAYAAACQK04eAAAABHNCSVQICAgIfAhkiAAAAAlwSFlz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